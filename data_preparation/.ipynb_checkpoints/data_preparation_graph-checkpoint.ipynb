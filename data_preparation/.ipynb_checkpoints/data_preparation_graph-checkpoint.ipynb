{
 "cells": [
  {
   "cell_type": "code",
   "execution_count": 1,
   "metadata": {
    "collapsed": true
   },
   "outputs": [],
   "source": [
    "import os\n",
    "import pandas as pd\n",
    "import numpy as np\n",
    "import json\n",
    "import folium\n",
    "from IPython.display import display, HTML\n",
    "from ipywidgets import widgets\n",
    "from ipywidgets import interact\n",
    "import matplotlib.pyplot as plt\n",
    "import seaborn as sns\n",
    "from pylab import rcParams\n",
    "import branca.colormap as cm\n",
    "from matplotlib import colors"
   ]
  },
  {
   "cell_type": "code",
   "execution_count": 2,
   "metadata": {},
   "outputs": [
    {
     "data": {
      "text/plain": [
       "1492205"
      ]
     },
     "metadata": {},
     "output_type": "display_data"
    },
    {
     "data": {
      "text/plain": [
       "(161831, 5)"
      ]
     },
     "metadata": {},
     "output_type": "display_data"
    },
    {
     "data": {
      "text/plain": [
       "(111300, 4)"
      ]
     },
     "metadata": {},
     "output_type": "display_data"
    }
   ],
   "source": [
    "df_refugee = pd.read_csv(\"time_series.csv\",low_memory=False)\n",
    "display(df_refugee.size)\n",
    "df_refugee['Value'] = pd.to_numeric(df_refugee['Value'], errors='coerce')\n",
    "df_refugee= df_refugee[df_refugee['Value'] > 0]\n",
    "df_refugee = df_refugee[df_refugee['Year']>1984]\n",
    "display(df_refugee.shape)\n",
    "df_refugee = df_refugee.groupby(['Year','Country / territory of asylum/residence','Origin']).sum().reset_index()\n",
    "df_refugee = df_refugee.rename(columns={\"Year\":\"year\",\"Value\":\"value\"})\n",
    "display(df_refugee.shape)"
   ]
  },
  {
   "cell_type": "code",
   "execution_count": 3,
   "metadata": {},
   "outputs": [
    {
     "data": {
      "text/html": [
       "<div>\n",
       "<style>\n",
       "    .dataframe thead tr:only-child th {\n",
       "        text-align: right;\n",
       "    }\n",
       "\n",
       "    .dataframe thead th {\n",
       "        text-align: left;\n",
       "    }\n",
       "\n",
       "    .dataframe tbody tr th {\n",
       "        vertical-align: top;\n",
       "    }\n",
       "</style>\n",
       "<table border=\"1\" class=\"dataframe\">\n",
       "  <thead>\n",
       "    <tr style=\"text-align: right;\">\n",
       "      <th></th>\n",
       "      <th>year</th>\n",
       "      <th>country_origin</th>\n",
       "      <th>country_asylum</th>\n",
       "      <th>value</th>\n",
       "    </tr>\n",
       "  </thead>\n",
       "  <tbody>\n",
       "    <tr>\n",
       "      <th>0</th>\n",
       "      <td>1985</td>\n",
       "      <td>CL</td>\n",
       "      <td>DZ</td>\n",
       "      <td>100.0</td>\n",
       "    </tr>\n",
       "    <tr>\n",
       "      <th>60912</th>\n",
       "      <td>1985</td>\n",
       "      <td>UY</td>\n",
       "      <td>CU</td>\n",
       "      <td>400.0</td>\n",
       "    </tr>\n",
       "    <tr>\n",
       "      <th>60844</th>\n",
       "      <td>1985</td>\n",
       "      <td>UY</td>\n",
       "      <td>AR</td>\n",
       "      <td>1220.0</td>\n",
       "    </tr>\n",
       "    <tr>\n",
       "      <th>85203</th>\n",
       "      <td>1985</td>\n",
       "      <td>DO</td>\n",
       "      <td>IT</td>\n",
       "      <td>1.0</td>\n",
       "    </tr>\n",
       "    <tr>\n",
       "      <th>72612</th>\n",
       "      <td>1985</td>\n",
       "      <td>GH</td>\n",
       "      <td>CI</td>\n",
       "      <td>220.0</td>\n",
       "    </tr>\n",
       "  </tbody>\n",
       "</table>\n",
       "</div>"
      ],
      "text/plain": [
       "       year country_origin country_asylum   value\n",
       "0      1985             CL             DZ   100.0\n",
       "60912  1985             UY             CU   400.0\n",
       "60844  1985             UY             AR  1220.0\n",
       "85203  1985             DO             IT     1.0\n",
       "72612  1985             GH             CI   220.0"
      ]
     },
     "metadata": {},
     "output_type": "display_data"
    }
   ],
   "source": [
    "df_geo  = pd.read_csv(\"geo.csv\",na_values ='NaN',keep_default_na =False)\n",
    "df_merge = df_refugee.merge(df_geo, left_on='Country / territory of asylum/residence', right_on='name', how='inner')\n",
    "df_merge = df_merge[['year','value','Origin',\"country\"]]\n",
    "df_merge = df_merge.rename(columns={\"country\" : \"country_asylum\"})\n",
    "df_merge = df_merge.merge(df_geo, left_on='Origin', right_on='name', how='inner')\n",
    "\n",
    "df_merge = df_merge[['year',\"country\",\"country_asylum\",'value']]\n",
    "df_merge = df_merge.rename(columns={\"country\":\"country_origin\"})\n",
    "\n",
    "df_merge = df_merge[df_merge['country_asylum']!=df_merge['country_origin']]\n",
    "\n",
    "df_merge = df_merge.sort_values(\"year\")\n",
    "\n",
    "display(df_merge.head())"
   ]
  },
  {
   "cell_type": "code",
   "execution_count": 4,
   "metadata": {},
   "outputs": [
    {
     "data": {
      "text/html": [
       "<div>\n",
       "<style>\n",
       "    .dataframe thead tr:only-child th {\n",
       "        text-align: right;\n",
       "    }\n",
       "\n",
       "    .dataframe thead th {\n",
       "        text-align: left;\n",
       "    }\n",
       "\n",
       "    .dataframe tbody tr th {\n",
       "        vertical-align: top;\n",
       "    }\n",
       "</style>\n",
       "<table border=\"1\" class=\"dataframe\">\n",
       "  <thead>\n",
       "    <tr style=\"text-align: right;\">\n",
       "      <th></th>\n",
       "      <th>year</th>\n",
       "      <th>country_origin</th>\n",
       "      <th>value</th>\n",
       "    </tr>\n",
       "  </thead>\n",
       "  <tbody>\n",
       "    <tr>\n",
       "      <th>893</th>\n",
       "      <td>1994</td>\n",
       "      <td>AD</td>\n",
       "      <td>2.0</td>\n",
       "    </tr>\n",
       "    <tr>\n",
       "      <th>1060</th>\n",
       "      <td>1995</td>\n",
       "      <td>AD</td>\n",
       "      <td>2.0</td>\n",
       "    </tr>\n",
       "    <tr>\n",
       "      <th>1232</th>\n",
       "      <td>1996</td>\n",
       "      <td>AD</td>\n",
       "      <td>3.0</td>\n",
       "    </tr>\n",
       "    <tr>\n",
       "      <th>1409</th>\n",
       "      <td>1997</td>\n",
       "      <td>AD</td>\n",
       "      <td>1.0</td>\n",
       "    </tr>\n",
       "    <tr>\n",
       "      <th>1588</th>\n",
       "      <td>1998</td>\n",
       "      <td>AD</td>\n",
       "      <td>2.0</td>\n",
       "    </tr>\n",
       "  </tbody>\n",
       "</table>\n",
       "</div>"
      ],
      "text/plain": [
       "      year country_origin  value\n",
       "893   1994             AD    2.0\n",
       "1060  1995             AD    2.0\n",
       "1232  1996             AD    3.0\n",
       "1409  1997             AD    1.0\n",
       "1588  1998             AD    2.0"
      ]
     },
     "metadata": {},
     "output_type": "display_data"
    }
   ],
   "source": [
    "df_immigration_exit = df_merge.drop(\"country_asylum\",1)\n",
    "df_immigration_exit = df_immigration_exit.groupby([\"year\",\"country_origin\"]).sum().reset_index()\n",
    "df_immigration_exit= df_immigration_exit.sort_values([\"country_origin\",\"year\"])\n",
    "display(df_immigration_exit.head())\n",
    "df_immigration_exit.to_csv(\"data_immigration_exit.csv\", sep=',', encoding='utf-8',index = False)"
   ]
  },
  {
   "cell_type": "code",
   "execution_count": 5,
   "metadata": {},
   "outputs": [
    {
     "data": {
      "text/html": [
       "<div>\n",
       "<style>\n",
       "    .dataframe thead tr:only-child th {\n",
       "        text-align: right;\n",
       "    }\n",
       "\n",
       "    .dataframe thead th {\n",
       "        text-align: left;\n",
       "    }\n",
       "\n",
       "    .dataframe tbody tr th {\n",
       "        vertical-align: top;\n",
       "    }\n",
       "</style>\n",
       "<table border=\"1\" class=\"dataframe\">\n",
       "  <thead>\n",
       "    <tr style=\"text-align: right;\">\n",
       "      <th></th>\n",
       "      <th>country_asylum</th>\n",
       "      <th>year</th>\n",
       "      <th>value</th>\n",
       "    </tr>\n",
       "  </thead>\n",
       "  <tbody>\n",
       "    <tr>\n",
       "      <th>0</th>\n",
       "      <td>AE</td>\n",
       "      <td>1985</td>\n",
       "      <td>6350.0</td>\n",
       "    </tr>\n",
       "    <tr>\n",
       "      <th>619</th>\n",
       "      <td>AE</td>\n",
       "      <td>1993</td>\n",
       "      <td>427.0</td>\n",
       "    </tr>\n",
       "    <tr>\n",
       "      <th>751</th>\n",
       "      <td>AE</td>\n",
       "      <td>1994</td>\n",
       "      <td>474.0</td>\n",
       "    </tr>\n",
       "    <tr>\n",
       "      <th>882</th>\n",
       "      <td>AE</td>\n",
       "      <td>1995</td>\n",
       "      <td>404.0</td>\n",
       "    </tr>\n",
       "    <tr>\n",
       "      <th>1016</th>\n",
       "      <td>AE</td>\n",
       "      <td>1996</td>\n",
       "      <td>450.0</td>\n",
       "    </tr>\n",
       "  </tbody>\n",
       "</table>\n",
       "</div>"
      ],
      "text/plain": [
       "     country_asylum  year   value\n",
       "0                AE  1985  6350.0\n",
       "619              AE  1993   427.0\n",
       "751              AE  1994   474.0\n",
       "882              AE  1995   404.0\n",
       "1016             AE  1996   450.0"
      ]
     },
     "metadata": {},
     "output_type": "display_data"
    }
   ],
   "source": [
    "df_immigration_entry = df_merge.drop(\"country_origin\",1)\n",
    "df_immigration_entry = df_immigration_entry.groupby([\"year\",\"country_asylum\"]).sum().reset_index()\n",
    "df_immigration_entry= df_immigration_entry.sort_values([\"country_asylum\",\"year\"])\n",
    "df_immigration_entry = df_immigration_entry[[\"country_asylum\",\"year\",\"value\"]]\n",
    "display(df_immigration_entry.head())\n",
    "df_immigration_entry.to_csv(\"data_immigration_entry.csv\", sep=',', encoding='utf-8',index = False)"
   ]
  },
  {
   "cell_type": "code",
   "execution_count": 6,
   "metadata": {
    "collapsed": true
   },
   "outputs": [],
   "source": [
    "import math\n",
    "def keepNonNan(country_origin,country_asylum):\n",
    "    if (country_origin == 0):\n",
    "        return country_asylum\n",
    "    if (country_asylum == 0):\n",
    "        return country_origin \n",
    "    return country_origin"
   ]
  },
  {
   "cell_type": "code",
   "execution_count": 7,
   "metadata": {},
   "outputs": [
    {
     "data": {
      "text/html": [
       "<div>\n",
       "<style>\n",
       "    .dataframe thead tr:only-child th {\n",
       "        text-align: right;\n",
       "    }\n",
       "\n",
       "    .dataframe thead th {\n",
       "        text-align: left;\n",
       "    }\n",
       "\n",
       "    .dataframe tbody tr th {\n",
       "        vertical-align: top;\n",
       "    }\n",
       "</style>\n",
       "<table border=\"1\" class=\"dataframe\">\n",
       "  <thead>\n",
       "    <tr style=\"text-align: right;\">\n",
       "      <th></th>\n",
       "      <th>year</th>\n",
       "      <th>country</th>\n",
       "      <th>value</th>\n",
       "    </tr>\n",
       "  </thead>\n",
       "  <tbody>\n",
       "    <tr>\n",
       "      <th>0</th>\n",
       "      <td>1985</td>\n",
       "      <td>AE</td>\n",
       "      <td>6350.0</td>\n",
       "    </tr>\n",
       "    <tr>\n",
       "      <th>4328</th>\n",
       "      <td>1985</td>\n",
       "      <td>AF</td>\n",
       "      <td>-4654343.0</td>\n",
       "    </tr>\n",
       "    <tr>\n",
       "      <th>4353</th>\n",
       "      <td>1985</td>\n",
       "      <td>AL</td>\n",
       "      <td>-3067.0</td>\n",
       "    </tr>\n",
       "    <tr>\n",
       "      <th>4360</th>\n",
       "      <td>1985</td>\n",
       "      <td>AM</td>\n",
       "      <td>-333.0</td>\n",
       "    </tr>\n",
       "    <tr>\n",
       "      <th>104</th>\n",
       "      <td>1985</td>\n",
       "      <td>AO</td>\n",
       "      <td>-226502.0</td>\n",
       "    </tr>\n",
       "  </tbody>\n",
       "</table>\n",
       "</div>"
      ],
      "text/plain": [
       "      year country      value\n",
       "0     1985      AE     6350.0\n",
       "4328  1985      AF -4654343.0\n",
       "4353  1985      AL    -3067.0\n",
       "4360  1985      AM     -333.0\n",
       "104   1985      AO  -226502.0"
      ]
     },
     "metadata": {},
     "output_type": "display_data"
    }
   ],
   "source": [
    "df_immigration_delta = df_immigration_entry.merge(df_immigration_exit,right_on=['year','country_origin'], left_on=['year','country_asylum'], how='outer')\n",
    "df_immigration_delta = df_immigration_delta.fillna(0)\n",
    "df_immigration_delta['country'] = df_immigration_delta.apply(lambda x:keepNonNan(x['country_origin'],x['country_asylum']),axis = 1)\n",
    "\n",
    "df_immigration_delta = df_immigration_delta[df_immigration_delta.country != 0]\n",
    "df_immigration_delta['value'] = df_immigration_delta.value_x - df_immigration_delta.value_y\n",
    "\n",
    "df_immigration_delta = df_immigration_delta[[\"year\",\"country\",\"value\"]]\n",
    "df_immigration_delta = df_immigration_delta.sort_values([\"year\",\"country\"])\n",
    "display(df_immigration_delta.head())"
   ]
  },
  {
   "cell_type": "code",
   "execution_count": 8,
   "metadata": {
    "collapsed": true
   },
   "outputs": [],
   "source": [
    "df_immigration_delta.to_csv(\"data_immigration_delta.csv\", sep=',', encoding='utf-8',index = False)"
   ]
  }
 ],
 "metadata": {
  "kernelspec": {
   "display_name": "Python 3",
   "language": "python",
   "name": "python3"
  },
  "language_info": {
   "codemirror_mode": {
    "name": "ipython",
    "version": 3
   },
   "file_extension": ".py",
   "mimetype": "text/x-python",
   "name": "python",
   "nbconvert_exporter": "python",
   "pygments_lexer": "ipython3",
   "version": "3.6.3"
  }
 },
 "nbformat": 4,
 "nbformat_minor": 2
}
