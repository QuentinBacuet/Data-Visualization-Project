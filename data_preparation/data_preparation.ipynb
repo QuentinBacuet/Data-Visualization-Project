{
 "cells": [
  {
   "cell_type": "code",
   "execution_count": 1,
   "metadata": {
    "collapsed": true
   },
   "outputs": [],
   "source": [
    "import os\n",
    "import pandas as pd\n",
    "import numpy as np\n",
    "import json\n",
    "import folium\n",
    "from IPython.display import display, HTML\n",
    "from ipywidgets import widgets\n",
    "from ipywidgets import interact\n",
    "import matplotlib.pyplot as plt\n",
    "import seaborn as sns\n",
    "from pylab import rcParams\n",
    "import branca.colormap as cm\n",
    "from matplotlib import colors"
   ]
  },
  {
   "cell_type": "code",
   "execution_count": 2,
   "metadata": {},
   "outputs": [
    {
     "data": {
      "text/plain": [
       "1492205"
      ]
     },
     "metadata": {},
     "output_type": "display_data"
    },
    {
     "data": {
      "text/plain": [
       "(161831, 5)"
      ]
     },
     "metadata": {},
     "output_type": "display_data"
    },
    {
     "data": {
      "text/plain": [
       "(111300, 4)"
      ]
     },
     "metadata": {},
     "output_type": "display_data"
    }
   ],
   "source": [
    "df_refugee = pd.read_csv(\"time_series.csv\",low_memory=False)\n",
    "display(df_refugee.size)\n",
    "df_refugee['Value'] = pd.to_numeric(df_refugee['Value'], errors='coerce')\n",
    "df_refugee= df_refugee[df_refugee['Value'] > 0]\n",
    "df_refugee = df_refugee[df_refugee['Year']>1984]\n",
    "display(df_refugee.shape)\n",
    "df_refugee = df_refugee.groupby(['Year','Country / territory of asylum/residence','Origin']).sum().reset_index()\n",
    "df_refugee = df_refugee.rename(columns={\"Year\":\"year\",\"Value\":\"value\"})\n",
    "display(df_refugee.shape)"
   ]
  },
  {
   "cell_type": "code",
   "execution_count": 3,
   "metadata": {},
   "outputs": [
    {
     "data": {
      "text/html": [
       "<div>\n",
       "<style>\n",
       "    .dataframe thead tr:only-child th {\n",
       "        text-align: right;\n",
       "    }\n",
       "\n",
       "    .dataframe thead th {\n",
       "        text-align: left;\n",
       "    }\n",
       "\n",
       "    .dataframe tbody tr th {\n",
       "        vertical-align: top;\n",
       "    }\n",
       "</style>\n",
       "<table border=\"1\" class=\"dataframe\">\n",
       "  <thead>\n",
       "    <tr style=\"text-align: right;\">\n",
       "      <th></th>\n",
       "      <th>country</th>\n",
       "      <th>latitude</th>\n",
       "      <th>longitude</th>\n",
       "      <th>name</th>\n",
       "    </tr>\n",
       "  </thead>\n",
       "  <tbody>\n",
       "    <tr>\n",
       "      <th>0</th>\n",
       "      <td>AD</td>\n",
       "      <td>42.546245</td>\n",
       "      <td>1.601554</td>\n",
       "      <td>Andorra</td>\n",
       "    </tr>\n",
       "    <tr>\n",
       "      <th>1</th>\n",
       "      <td>AE</td>\n",
       "      <td>23.424076</td>\n",
       "      <td>53.847818</td>\n",
       "      <td>United Arab Emirates</td>\n",
       "    </tr>\n",
       "    <tr>\n",
       "      <th>2</th>\n",
       "      <td>AF</td>\n",
       "      <td>33.93911</td>\n",
       "      <td>67.709953</td>\n",
       "      <td>Afghanistan</td>\n",
       "    </tr>\n",
       "    <tr>\n",
       "      <th>3</th>\n",
       "      <td>AG</td>\n",
       "      <td>17.060816</td>\n",
       "      <td>-61.796428</td>\n",
       "      <td>Antigua and Barbuda</td>\n",
       "    </tr>\n",
       "    <tr>\n",
       "      <th>4</th>\n",
       "      <td>AI</td>\n",
       "      <td>18.220554</td>\n",
       "      <td>-63.068615</td>\n",
       "      <td>Anguilla</td>\n",
       "    </tr>\n",
       "  </tbody>\n",
       "</table>\n",
       "</div>"
      ],
      "text/plain": [
       "  country   latitude   longitude                  name\n",
       "0      AD  42.546245    1.601554               Andorra\n",
       "1      AE  23.424076   53.847818  United Arab Emirates\n",
       "2      AF   33.93911   67.709953           Afghanistan\n",
       "3      AG  17.060816  -61.796428   Antigua and Barbuda\n",
       "4      AI  18.220554  -63.068615              Anguilla"
      ]
     },
     "metadata": {},
     "output_type": "display_data"
    }
   ],
   "source": [
    "df_geo  = pd.read_csv(\"geo.csv\",na_values ='NaN',keep_default_na =False)\n",
    "display(df_geo.head())"
   ]
  },
  {
   "cell_type": "code",
   "execution_count": 4,
   "metadata": {
    "collapsed": true
   },
   "outputs": [],
   "source": [
    "pd.DataFrame.to_csv(df_geo[['country', 'latitude', 'longitude']], \"countries_latlon.csv\", index=False)"
   ]
  },
  {
   "cell_type": "code",
   "execution_count": 5,
   "metadata": {},
   "outputs": [
    {
     "data": {
      "text/html": [
       "<div>\n",
       "<style>\n",
       "    .dataframe thead tr:only-child th {\n",
       "        text-align: right;\n",
       "    }\n",
       "\n",
       "    .dataframe thead th {\n",
       "        text-align: left;\n",
       "    }\n",
       "\n",
       "    .dataframe tbody tr th {\n",
       "        vertical-align: top;\n",
       "    }\n",
       "</style>\n",
       "<table border=\"1\" class=\"dataframe\">\n",
       "  <thead>\n",
       "    <tr style=\"text-align: right;\">\n",
       "      <th></th>\n",
       "      <th>year</th>\n",
       "      <th>latitude_asylum</th>\n",
       "      <th>longitude_asylum</th>\n",
       "      <th>country_asylum</th>\n",
       "      <th>value</th>\n",
       "      <th>Origin</th>\n",
       "    </tr>\n",
       "  </thead>\n",
       "  <tbody>\n",
       "    <tr>\n",
       "      <th>0</th>\n",
       "      <td>1985</td>\n",
       "      <td>28.033886</td>\n",
       "      <td>1.659626</td>\n",
       "      <td>DZ</td>\n",
       "      <td>100.0</td>\n",
       "      <td>Chile</td>\n",
       "    </tr>\n",
       "    <tr>\n",
       "      <th>1</th>\n",
       "      <td>1985</td>\n",
       "      <td>28.033886</td>\n",
       "      <td>1.659626</td>\n",
       "      <td>DZ</td>\n",
       "      <td>2000.0</td>\n",
       "      <td>Palestinian</td>\n",
       "    </tr>\n",
       "    <tr>\n",
       "      <th>2</th>\n",
       "      <td>1985</td>\n",
       "      <td>28.033886</td>\n",
       "      <td>1.659626</td>\n",
       "      <td>DZ</td>\n",
       "      <td>7060.0</td>\n",
       "      <td>Various/Unknown</td>\n",
       "    </tr>\n",
       "    <tr>\n",
       "      <th>3</th>\n",
       "      <td>1985</td>\n",
       "      <td>28.033886</td>\n",
       "      <td>1.659626</td>\n",
       "      <td>DZ</td>\n",
       "      <td>165000.0</td>\n",
       "      <td>Western Sahara</td>\n",
       "    </tr>\n",
       "    <tr>\n",
       "      <th>4</th>\n",
       "      <td>1986</td>\n",
       "      <td>28.033886</td>\n",
       "      <td>1.659626</td>\n",
       "      <td>DZ</td>\n",
       "      <td>80.0</td>\n",
       "      <td>Chile</td>\n",
       "    </tr>\n",
       "    <tr>\n",
       "      <th>5</th>\n",
       "      <td>1986</td>\n",
       "      <td>28.033886</td>\n",
       "      <td>1.659626</td>\n",
       "      <td>DZ</td>\n",
       "      <td>2000.0</td>\n",
       "      <td>Palestinian</td>\n",
       "    </tr>\n",
       "    <tr>\n",
       "      <th>6</th>\n",
       "      <td>1986</td>\n",
       "      <td>28.033886</td>\n",
       "      <td>1.659626</td>\n",
       "      <td>DZ</td>\n",
       "      <td>140.0</td>\n",
       "      <td>Various/Unknown</td>\n",
       "    </tr>\n",
       "    <tr>\n",
       "      <th>7</th>\n",
       "      <td>1986</td>\n",
       "      <td>28.033886</td>\n",
       "      <td>1.659626</td>\n",
       "      <td>DZ</td>\n",
       "      <td>165000.0</td>\n",
       "      <td>Western Sahara</td>\n",
       "    </tr>\n",
       "    <tr>\n",
       "      <th>8</th>\n",
       "      <td>1987</td>\n",
       "      <td>28.033886</td>\n",
       "      <td>1.659626</td>\n",
       "      <td>DZ</td>\n",
       "      <td>2000.0</td>\n",
       "      <td>Palestinian</td>\n",
       "    </tr>\n",
       "    <tr>\n",
       "      <th>9</th>\n",
       "      <td>1987</td>\n",
       "      <td>28.033886</td>\n",
       "      <td>1.659626</td>\n",
       "      <td>DZ</td>\n",
       "      <td>165000.0</td>\n",
       "      <td>Western Sahara</td>\n",
       "    </tr>\n",
       "  </tbody>\n",
       "</table>\n",
       "</div>"
      ],
      "text/plain": [
       "   year latitude_asylum longitude_asylum country_asylum     value  \\\n",
       "0  1985       28.033886         1.659626             DZ     100.0   \n",
       "1  1985       28.033886         1.659626             DZ    2000.0   \n",
       "2  1985       28.033886         1.659626             DZ    7060.0   \n",
       "3  1985       28.033886         1.659626             DZ  165000.0   \n",
       "4  1986       28.033886         1.659626             DZ      80.0   \n",
       "5  1986       28.033886         1.659626             DZ    2000.0   \n",
       "6  1986       28.033886         1.659626             DZ     140.0   \n",
       "7  1986       28.033886         1.659626             DZ  165000.0   \n",
       "8  1987       28.033886         1.659626             DZ    2000.0   \n",
       "9  1987       28.033886         1.659626             DZ  165000.0   \n",
       "\n",
       "            Origin  \n",
       "0            Chile  \n",
       "1      Palestinian  \n",
       "2  Various/Unknown  \n",
       "3   Western Sahara  \n",
       "4            Chile  \n",
       "5      Palestinian  \n",
       "6  Various/Unknown  \n",
       "7   Western Sahara  \n",
       "8      Palestinian  \n",
       "9   Western Sahara  "
      ]
     },
     "metadata": {},
     "output_type": "display_data"
    }
   ],
   "source": [
    "df_merge = df_refugee.merge(df_geo, left_on='Country / territory of asylum/residence', right_on='name', how='inner')\n",
    "df_merge = df_merge[['year','latitude','longitude','country','value','Origin']]\n",
    "df_merge = df_merge.rename(columns={'latitude': 'latitude_asylum','longitude': 'longitude_asylum','country':'country_asylum'})\n",
    "display(df_merge.head(10))"
   ]
  },
  {
   "cell_type": "code",
   "execution_count": 6,
   "metadata": {
    "scrolled": true
   },
   "outputs": [
    {
     "data": {
      "text/html": [
       "<div>\n",
       "<style>\n",
       "    .dataframe thead tr:only-child th {\n",
       "        text-align: right;\n",
       "    }\n",
       "\n",
       "    .dataframe thead th {\n",
       "        text-align: left;\n",
       "    }\n",
       "\n",
       "    .dataframe tbody tr th {\n",
       "        vertical-align: top;\n",
       "    }\n",
       "</style>\n",
       "<table border=\"1\" class=\"dataframe\">\n",
       "  <thead>\n",
       "    <tr style=\"text-align: right;\">\n",
       "      <th></th>\n",
       "      <th>year</th>\n",
       "      <th>latitude_asylum</th>\n",
       "      <th>longitude_asylum</th>\n",
       "      <th>country_asylum</th>\n",
       "      <th>value</th>\n",
       "      <th>Origin</th>\n",
       "      <th>country</th>\n",
       "      <th>latitude</th>\n",
       "      <th>longitude</th>\n",
       "      <th>name</th>\n",
       "    </tr>\n",
       "  </thead>\n",
       "  <tbody>\n",
       "    <tr>\n",
       "      <th>0</th>\n",
       "      <td>1985</td>\n",
       "      <td>28.033886</td>\n",
       "      <td>1.659626</td>\n",
       "      <td>DZ</td>\n",
       "      <td>100.0</td>\n",
       "      <td>Chile</td>\n",
       "      <td>CL</td>\n",
       "      <td>-35.675147</td>\n",
       "      <td>-71.542969</td>\n",
       "      <td>Chile</td>\n",
       "    </tr>\n",
       "    <tr>\n",
       "      <th>1</th>\n",
       "      <td>1986</td>\n",
       "      <td>28.033886</td>\n",
       "      <td>1.659626</td>\n",
       "      <td>DZ</td>\n",
       "      <td>80.0</td>\n",
       "      <td>Chile</td>\n",
       "      <td>CL</td>\n",
       "      <td>-35.675147</td>\n",
       "      <td>-71.542969</td>\n",
       "      <td>Chile</td>\n",
       "    </tr>\n",
       "    <tr>\n",
       "      <th>2</th>\n",
       "      <td>1985</td>\n",
       "      <td>-38.416097</td>\n",
       "      <td>-63.616672</td>\n",
       "      <td>AR</td>\n",
       "      <td>80.0</td>\n",
       "      <td>Chile</td>\n",
       "      <td>CL</td>\n",
       "      <td>-35.675147</td>\n",
       "      <td>-71.542969</td>\n",
       "      <td>Chile</td>\n",
       "    </tr>\n",
       "    <tr>\n",
       "      <th>3</th>\n",
       "      <td>1986</td>\n",
       "      <td>-38.416097</td>\n",
       "      <td>-63.616672</td>\n",
       "      <td>AR</td>\n",
       "      <td>1690.0</td>\n",
       "      <td>Chile</td>\n",
       "      <td>CL</td>\n",
       "      <td>-35.675147</td>\n",
       "      <td>-71.542969</td>\n",
       "      <td>Chile</td>\n",
       "    </tr>\n",
       "    <tr>\n",
       "      <th>4</th>\n",
       "      <td>1993</td>\n",
       "      <td>-38.416097</td>\n",
       "      <td>-63.616672</td>\n",
       "      <td>AR</td>\n",
       "      <td>412.0</td>\n",
       "      <td>Chile</td>\n",
       "      <td>CL</td>\n",
       "      <td>-35.675147</td>\n",
       "      <td>-71.542969</td>\n",
       "      <td>Chile</td>\n",
       "    </tr>\n",
       "  </tbody>\n",
       "</table>\n",
       "</div>"
      ],
      "text/plain": [
       "   year latitude_asylum longitude_asylum country_asylum   value Origin  \\\n",
       "0  1985       28.033886         1.659626             DZ   100.0  Chile   \n",
       "1  1986       28.033886         1.659626             DZ    80.0  Chile   \n",
       "2  1985      -38.416097       -63.616672             AR    80.0  Chile   \n",
       "3  1986      -38.416097       -63.616672             AR  1690.0  Chile   \n",
       "4  1993      -38.416097       -63.616672             AR   412.0  Chile   \n",
       "\n",
       "  country    latitude   longitude   name  \n",
       "0      CL  -35.675147  -71.542969  Chile  \n",
       "1      CL  -35.675147  -71.542969  Chile  \n",
       "2      CL  -35.675147  -71.542969  Chile  \n",
       "3      CL  -35.675147  -71.542969  Chile  \n",
       "4      CL  -35.675147  -71.542969  Chile  "
      ]
     },
     "metadata": {},
     "output_type": "display_data"
    }
   ],
   "source": [
    "df_merge = df_merge.merge(df_geo, left_on='Origin', right_on='name', how='inner')\n",
    "display(df_merge.head())\n",
    "df_merge = df_merge[['year','country','latitude','longitude','country_asylum','latitude_asylum','longitude_asylum','value']]\n",
    "df_merge = df_merge.rename(columns={'latitude': 'latitude_origin','longitude': 'longitude_origin','country':'country_origin'})\n",
    "df_merge = df_merge.sort_values(\"year\")\n",
    "\n",
    "df_merge = df_merge[df_merge['country_asylum']!=df_merge['country_origin']]"
   ]
  },
  {
   "cell_type": "code",
   "execution_count": 20,
   "metadata": {},
   "outputs": [
    {
     "data": {
      "text/plain": [
       "(106549, 8)"
      ]
     },
     "metadata": {},
     "output_type": "display_data"
    }
   ],
   "source": [
    "display(df_merge.shape)"
   ]
  },
  {
   "cell_type": "code",
   "execution_count": 21,
   "metadata": {
    "collapsed": true
   },
   "outputs": [],
   "source": [
    "df_merge.to_csv(\"final_data.csv\", sep=',', encoding='utf-8',index = False)"
   ]
  },
  {
   "cell_type": "code",
   "execution_count": null,
   "metadata": {
    "collapsed": true
   },
   "outputs": [],
   "source": []
  }
 ],
 "metadata": {
  "kernelspec": {
   "display_name": "Python [default]",
   "language": "python",
   "name": "python3"
  },
  "language_info": {
   "codemirror_mode": {
    "name": "ipython",
    "version": 3
   },
   "file_extension": ".py",
   "mimetype": "text/x-python",
   "name": "python",
   "nbconvert_exporter": "python",
   "pygments_lexer": "ipython3",
   "version": "3.5.3"
  }
 },
 "nbformat": 4,
 "nbformat_minor": 2
}
